{
  "nbformat": 4,
  "nbformat_minor": 0,
  "metadata": {
    "colab": {
      "provenance": []
    },
    "kernelspec": {
      "name": "python3",
      "display_name": "Python 3"
    },
    "language_info": {
      "name": "python"
    }
  },
  "cells": [
    {
      "cell_type": "markdown",
      "source": [
        "# **Food Delivery Dataset**"
      ],
      "metadata": {
        "id": "7t3Ot0lFQt8F"
      }
    },
    {
      "cell_type": "code",
      "source": [
        "import pandas as pd\n",
        "import re\n",
        "from google import colab as cl\n",
        "\n",
        "'''Outra possibilidade...\n",
        "\n",
        "from google.colab import drive\n",
        "\n",
        "drive.mount('/content/drive')\n",
        "\n",
        "df_raw = pd.read_csv('/content/drive/Mydrive/FTC - Análise de Dados/train.csv')'''\n",
        "\n",
        "\n",
        "file_upload = cl.files.upload()"
      ],
      "metadata": {
        "colab": {
          "base_uri": "https://localhost:8080/",
          "height": 73
        },
        "id": "alQIZJENRXl6",
        "outputId": "62ac992a-3de6-4cd4-e311-489aed252126"
      },
      "execution_count": null,
      "outputs": [
        {
          "output_type": "display_data",
          "data": {
            "text/plain": [
              "<IPython.core.display.HTML object>"
            ],
            "text/html": [
              "\n",
              "     <input type=\"file\" id=\"files-c317be6f-c14b-4354-8355-442286e17eb9\" name=\"files[]\" multiple disabled\n",
              "        style=\"border:none\" />\n",
              "     <output id=\"result-c317be6f-c14b-4354-8355-442286e17eb9\">\n",
              "      Upload widget is only available when the cell has been executed in the\n",
              "      current browser session. Please rerun this cell to enable.\n",
              "      </output>\n",
              "      <script>// Copyright 2017 Google LLC\n",
              "//\n",
              "// Licensed under the Apache License, Version 2.0 (the \"License\");\n",
              "// you may not use this file except in compliance with the License.\n",
              "// You may obtain a copy of the License at\n",
              "//\n",
              "//      http://www.apache.org/licenses/LICENSE-2.0\n",
              "//\n",
              "// Unless required by applicable law or agreed to in writing, software\n",
              "// distributed under the License is distributed on an \"AS IS\" BASIS,\n",
              "// WITHOUT WARRANTIES OR CONDITIONS OF ANY KIND, either express or implied.\n",
              "// See the License for the specific language governing permissions and\n",
              "// limitations under the License.\n",
              "\n",
              "/**\n",
              " * @fileoverview Helpers for google.colab Python module.\n",
              " */\n",
              "(function(scope) {\n",
              "function span(text, styleAttributes = {}) {\n",
              "  const element = document.createElement('span');\n",
              "  element.textContent = text;\n",
              "  for (const key of Object.keys(styleAttributes)) {\n",
              "    element.style[key] = styleAttributes[key];\n",
              "  }\n",
              "  return element;\n",
              "}\n",
              "\n",
              "// Max number of bytes which will be uploaded at a time.\n",
              "const MAX_PAYLOAD_SIZE = 100 * 1024;\n",
              "\n",
              "function _uploadFiles(inputId, outputId) {\n",
              "  const steps = uploadFilesStep(inputId, outputId);\n",
              "  const outputElement = document.getElementById(outputId);\n",
              "  // Cache steps on the outputElement to make it available for the next call\n",
              "  // to uploadFilesContinue from Python.\n",
              "  outputElement.steps = steps;\n",
              "\n",
              "  return _uploadFilesContinue(outputId);\n",
              "}\n",
              "\n",
              "// This is roughly an async generator (not supported in the browser yet),\n",
              "// where there are multiple asynchronous steps and the Python side is going\n",
              "// to poll for completion of each step.\n",
              "// This uses a Promise to block the python side on completion of each step,\n",
              "// then passes the result of the previous step as the input to the next step.\n",
              "function _uploadFilesContinue(outputId) {\n",
              "  const outputElement = document.getElementById(outputId);\n",
              "  const steps = outputElement.steps;\n",
              "\n",
              "  const next = steps.next(outputElement.lastPromiseValue);\n",
              "  return Promise.resolve(next.value.promise).then((value) => {\n",
              "    // Cache the last promise value to make it available to the next\n",
              "    // step of the generator.\n",
              "    outputElement.lastPromiseValue = value;\n",
              "    return next.value.response;\n",
              "  });\n",
              "}\n",
              "\n",
              "/**\n",
              " * Generator function which is called between each async step of the upload\n",
              " * process.\n",
              " * @param {string} inputId Element ID of the input file picker element.\n",
              " * @param {string} outputId Element ID of the output display.\n",
              " * @return {!Iterable<!Object>} Iterable of next steps.\n",
              " */\n",
              "function* uploadFilesStep(inputId, outputId) {\n",
              "  const inputElement = document.getElementById(inputId);\n",
              "  inputElement.disabled = false;\n",
              "\n",
              "  const outputElement = document.getElementById(outputId);\n",
              "  outputElement.innerHTML = '';\n",
              "\n",
              "  const pickedPromise = new Promise((resolve) => {\n",
              "    inputElement.addEventListener('change', (e) => {\n",
              "      resolve(e.target.files);\n",
              "    });\n",
              "  });\n",
              "\n",
              "  const cancel = document.createElement('button');\n",
              "  inputElement.parentElement.appendChild(cancel);\n",
              "  cancel.textContent = 'Cancel upload';\n",
              "  const cancelPromise = new Promise((resolve) => {\n",
              "    cancel.onclick = () => {\n",
              "      resolve(null);\n",
              "    };\n",
              "  });\n",
              "\n",
              "  // Wait for the user to pick the files.\n",
              "  const files = yield {\n",
              "    promise: Promise.race([pickedPromise, cancelPromise]),\n",
              "    response: {\n",
              "      action: 'starting',\n",
              "    }\n",
              "  };\n",
              "\n",
              "  cancel.remove();\n",
              "\n",
              "  // Disable the input element since further picks are not allowed.\n",
              "  inputElement.disabled = true;\n",
              "\n",
              "  if (!files) {\n",
              "    return {\n",
              "      response: {\n",
              "        action: 'complete',\n",
              "      }\n",
              "    };\n",
              "  }\n",
              "\n",
              "  for (const file of files) {\n",
              "    const li = document.createElement('li');\n",
              "    li.append(span(file.name, {fontWeight: 'bold'}));\n",
              "    li.append(span(\n",
              "        `(${file.type || 'n/a'}) - ${file.size} bytes, ` +\n",
              "        `last modified: ${\n",
              "            file.lastModifiedDate ? file.lastModifiedDate.toLocaleDateString() :\n",
              "                                    'n/a'} - `));\n",
              "    const percent = span('0% done');\n",
              "    li.appendChild(percent);\n",
              "\n",
              "    outputElement.appendChild(li);\n",
              "\n",
              "    const fileDataPromise = new Promise((resolve) => {\n",
              "      const reader = new FileReader();\n",
              "      reader.onload = (e) => {\n",
              "        resolve(e.target.result);\n",
              "      };\n",
              "      reader.readAsArrayBuffer(file);\n",
              "    });\n",
              "    // Wait for the data to be ready.\n",
              "    let fileData = yield {\n",
              "      promise: fileDataPromise,\n",
              "      response: {\n",
              "        action: 'continue',\n",
              "      }\n",
              "    };\n",
              "\n",
              "    // Use a chunked sending to avoid message size limits. See b/62115660.\n",
              "    let position = 0;\n",
              "    do {\n",
              "      const length = Math.min(fileData.byteLength - position, MAX_PAYLOAD_SIZE);\n",
              "      const chunk = new Uint8Array(fileData, position, length);\n",
              "      position += length;\n",
              "\n",
              "      const base64 = btoa(String.fromCharCode.apply(null, chunk));\n",
              "      yield {\n",
              "        response: {\n",
              "          action: 'append',\n",
              "          file: file.name,\n",
              "          data: base64,\n",
              "        },\n",
              "      };\n",
              "\n",
              "      let percentDone = fileData.byteLength === 0 ?\n",
              "          100 :\n",
              "          Math.round((position / fileData.byteLength) * 100);\n",
              "      percent.textContent = `${percentDone}% done`;\n",
              "\n",
              "    } while (position < fileData.byteLength);\n",
              "  }\n",
              "\n",
              "  // All done.\n",
              "  yield {\n",
              "    response: {\n",
              "      action: 'complete',\n",
              "    }\n",
              "  };\n",
              "}\n",
              "\n",
              "scope.google = scope.google || {};\n",
              "scope.google.colab = scope.google.colab || {};\n",
              "scope.google.colab._files = {\n",
              "  _uploadFiles,\n",
              "  _uploadFilesContinue,\n",
              "};\n",
              "})(self);\n",
              "</script> "
            ]
          },
          "metadata": {}
        },
        {
          "output_type": "stream",
          "name": "stdout",
          "text": [
            "Saving train.csv to train.csv\n"
          ]
        }
      ]
    },
    {
      "cell_type": "code",
      "source": [
        "df = pd.read_csv( '/content/train.csv' )\n",
        "df.head(2)"
      ],
      "metadata": {
        "colab": {
          "base_uri": "https://localhost:8080/",
          "height": 176
        },
        "id": "SgplqVTyRk24",
        "outputId": "8f0b9bd6-3d9c-4cdd-df4e-1fc022f99ee8"
      },
      "execution_count": null,
      "outputs": [
        {
          "output_type": "execute_result",
          "data": {
            "text/plain": [
              "        ID Delivery_person_ID Delivery_person_Age Delivery_person_Ratings  \\\n",
              "0  0x4607     INDORES13DEL02                   37                     4.9   \n",
              "1  0xb379     BANGRES18DEL02                   34                     4.5   \n",
              "\n",
              "   Restaurant_latitude  Restaurant_longitude  Delivery_location_latitude  \\\n",
              "0            22.745049             75.892471                   22.765049   \n",
              "1            12.913041             77.683237                   13.043041   \n",
              "\n",
              "   Delivery_location_longitude  Order_Date Time_Orderd Time_Order_picked  \\\n",
              "0                    75.912471  19-03-2022    11:30:00          11:45:00   \n",
              "1                    77.813237  25-03-2022    19:45:00          19:50:00   \n",
              "\n",
              "   Weatherconditions Road_traffic_density  Vehicle_condition Type_of_order  \\\n",
              "0   conditions Sunny                High                   2        Snack    \n",
              "1  conditions Stormy                 Jam                   2        Snack    \n",
              "\n",
              "  Type_of_vehicle multiple_deliveries Festival            City Time_taken(min)  \n",
              "0     motorcycle                    0      No           Urban         (min) 24  \n",
              "1        scooter                    1      No   Metropolitian         (min) 33  "
            ],
            "text/html": [
              "\n",
              "  <div id=\"df-c25da0cc-dbcf-4de3-9ba4-b22e1740fab3\">\n",
              "    <div class=\"colab-df-container\">\n",
              "      <div>\n",
              "<style scoped>\n",
              "    .dataframe tbody tr th:only-of-type {\n",
              "        vertical-align: middle;\n",
              "    }\n",
              "\n",
              "    .dataframe tbody tr th {\n",
              "        vertical-align: top;\n",
              "    }\n",
              "\n",
              "    .dataframe thead th {\n",
              "        text-align: right;\n",
              "    }\n",
              "</style>\n",
              "<table border=\"1\" class=\"dataframe\">\n",
              "  <thead>\n",
              "    <tr style=\"text-align: right;\">\n",
              "      <th></th>\n",
              "      <th>ID</th>\n",
              "      <th>Delivery_person_ID</th>\n",
              "      <th>Delivery_person_Age</th>\n",
              "      <th>Delivery_person_Ratings</th>\n",
              "      <th>Restaurant_latitude</th>\n",
              "      <th>Restaurant_longitude</th>\n",
              "      <th>Delivery_location_latitude</th>\n",
              "      <th>Delivery_location_longitude</th>\n",
              "      <th>Order_Date</th>\n",
              "      <th>Time_Orderd</th>\n",
              "      <th>Time_Order_picked</th>\n",
              "      <th>Weatherconditions</th>\n",
              "      <th>Road_traffic_density</th>\n",
              "      <th>Vehicle_condition</th>\n",
              "      <th>Type_of_order</th>\n",
              "      <th>Type_of_vehicle</th>\n",
              "      <th>multiple_deliveries</th>\n",
              "      <th>Festival</th>\n",
              "      <th>City</th>\n",
              "      <th>Time_taken(min)</th>\n",
              "    </tr>\n",
              "  </thead>\n",
              "  <tbody>\n",
              "    <tr>\n",
              "      <th>0</th>\n",
              "      <td>0x4607</td>\n",
              "      <td>INDORES13DEL02</td>\n",
              "      <td>37</td>\n",
              "      <td>4.9</td>\n",
              "      <td>22.745049</td>\n",
              "      <td>75.892471</td>\n",
              "      <td>22.765049</td>\n",
              "      <td>75.912471</td>\n",
              "      <td>19-03-2022</td>\n",
              "      <td>11:30:00</td>\n",
              "      <td>11:45:00</td>\n",
              "      <td>conditions Sunny</td>\n",
              "      <td>High</td>\n",
              "      <td>2</td>\n",
              "      <td>Snack</td>\n",
              "      <td>motorcycle</td>\n",
              "      <td>0</td>\n",
              "      <td>No</td>\n",
              "      <td>Urban</td>\n",
              "      <td>(min) 24</td>\n",
              "    </tr>\n",
              "    <tr>\n",
              "      <th>1</th>\n",
              "      <td>0xb379</td>\n",
              "      <td>BANGRES18DEL02</td>\n",
              "      <td>34</td>\n",
              "      <td>4.5</td>\n",
              "      <td>12.913041</td>\n",
              "      <td>77.683237</td>\n",
              "      <td>13.043041</td>\n",
              "      <td>77.813237</td>\n",
              "      <td>25-03-2022</td>\n",
              "      <td>19:45:00</td>\n",
              "      <td>19:50:00</td>\n",
              "      <td>conditions Stormy</td>\n",
              "      <td>Jam</td>\n",
              "      <td>2</td>\n",
              "      <td>Snack</td>\n",
              "      <td>scooter</td>\n",
              "      <td>1</td>\n",
              "      <td>No</td>\n",
              "      <td>Metropolitian</td>\n",
              "      <td>(min) 33</td>\n",
              "    </tr>\n",
              "  </tbody>\n",
              "</table>\n",
              "</div>\n",
              "      <button class=\"colab-df-convert\" onclick=\"convertToInteractive('df-c25da0cc-dbcf-4de3-9ba4-b22e1740fab3')\"\n",
              "              title=\"Convert this dataframe to an interactive table.\"\n",
              "              style=\"display:none;\">\n",
              "        \n",
              "  <svg xmlns=\"http://www.w3.org/2000/svg\" height=\"24px\"viewBox=\"0 0 24 24\"\n",
              "       width=\"24px\">\n",
              "    <path d=\"M0 0h24v24H0V0z\" fill=\"none\"/>\n",
              "    <path d=\"M18.56 5.44l.94 2.06.94-2.06 2.06-.94-2.06-.94-.94-2.06-.94 2.06-2.06.94zm-11 1L8.5 8.5l.94-2.06 2.06-.94-2.06-.94L8.5 2.5l-.94 2.06-2.06.94zm10 10l.94 2.06.94-2.06 2.06-.94-2.06-.94-.94-2.06-.94 2.06-2.06.94z\"/><path d=\"M17.41 7.96l-1.37-1.37c-.4-.4-.92-.59-1.43-.59-.52 0-1.04.2-1.43.59L10.3 9.45l-7.72 7.72c-.78.78-.78 2.05 0 2.83L4 21.41c.39.39.9.59 1.41.59.51 0 1.02-.2 1.41-.59l7.78-7.78 2.81-2.81c.8-.78.8-2.07 0-2.86zM5.41 20L4 18.59l7.72-7.72 1.47 1.35L5.41 20z\"/>\n",
              "  </svg>\n",
              "      </button>\n",
              "      \n",
              "  <style>\n",
              "    .colab-df-container {\n",
              "      display:flex;\n",
              "      flex-wrap:wrap;\n",
              "      gap: 12px;\n",
              "    }\n",
              "\n",
              "    .colab-df-convert {\n",
              "      background-color: #E8F0FE;\n",
              "      border: none;\n",
              "      border-radius: 50%;\n",
              "      cursor: pointer;\n",
              "      display: none;\n",
              "      fill: #1967D2;\n",
              "      height: 32px;\n",
              "      padding: 0 0 0 0;\n",
              "      width: 32px;\n",
              "    }\n",
              "\n",
              "    .colab-df-convert:hover {\n",
              "      background-color: #E2EBFA;\n",
              "      box-shadow: 0px 1px 2px rgba(60, 64, 67, 0.3), 0px 1px 3px 1px rgba(60, 64, 67, 0.15);\n",
              "      fill: #174EA6;\n",
              "    }\n",
              "\n",
              "    [theme=dark] .colab-df-convert {\n",
              "      background-color: #3B4455;\n",
              "      fill: #D2E3FC;\n",
              "    }\n",
              "\n",
              "    [theme=dark] .colab-df-convert:hover {\n",
              "      background-color: #434B5C;\n",
              "      box-shadow: 0px 1px 3px 1px rgba(0, 0, 0, 0.15);\n",
              "      filter: drop-shadow(0px 1px 2px rgba(0, 0, 0, 0.3));\n",
              "      fill: #FFFFFF;\n",
              "    }\n",
              "  </style>\n",
              "\n",
              "      <script>\n",
              "        const buttonEl =\n",
              "          document.querySelector('#df-c25da0cc-dbcf-4de3-9ba4-b22e1740fab3 button.colab-df-convert');\n",
              "        buttonEl.style.display =\n",
              "          google.colab.kernel.accessAllowed ? 'block' : 'none';\n",
              "\n",
              "        async function convertToInteractive(key) {\n",
              "          const element = document.querySelector('#df-c25da0cc-dbcf-4de3-9ba4-b22e1740fab3');\n",
              "          const dataTable =\n",
              "            await google.colab.kernel.invokeFunction('convertToInteractive',\n",
              "                                                     [key], {});\n",
              "          if (!dataTable) return;\n",
              "\n",
              "          const docLinkHtml = 'Like what you see? Visit the ' +\n",
              "            '<a target=\"_blank\" href=https://colab.research.google.com/notebooks/data_table.ipynb>data table notebook</a>'\n",
              "            + ' to learn more about interactive tables.';\n",
              "          element.innerHTML = '';\n",
              "          dataTable['output_type'] = 'display_data';\n",
              "          await google.colab.output.renderOutput(dataTable, element);\n",
              "          const docLink = document.createElement('div');\n",
              "          docLink.innerHTML = docLinkHtml;\n",
              "          element.appendChild(docLink);\n",
              "        }\n",
              "      </script>\n",
              "    </div>\n",
              "  </div>\n",
              "  "
            ]
          },
          "metadata": {},
          "execution_count": 2
        }
      ]
    },
    {
      "cell_type": "markdown",
      "source": [
        "# `LIMPANDO O DATAFRAME`"
      ],
      "metadata": {
        "id": "17uyVzqdLxMp"
      }
    },
    {
      "cell_type": "code",
      "source": [
        "df1 = df.copy()"
      ],
      "metadata": {
        "id": "kKcs5yXFXxLX"
      },
      "execution_count": null,
      "outputs": []
    },
    {
      "cell_type": "code",
      "source": [
        "# Tirando os espaços da coluna 'ID' e 'Delivery_person_ID'\n",
        "\n",
        "for i in range( len( df1 ) ):\n",
        "    df1.loc[i, 'ID'] = df1.loc[i, 'ID'].strip()\n",
        "    df1.loc[i, 'Delivery_person_ID'] = df.loc[i, 'Delivery_person_ID']\n",
        "\n",
        "\n",
        "# Alterando 'Delivery_person_Age' de object para int\n",
        "\n",
        "Delivery_person_Age = df1['Delivery_person_Age'] != 'NaN '\n",
        "\n",
        "df1 = df1.loc[Delivery_person_Age, :]\n",
        "\n",
        "df1['Delivery_person_Age'] = df1['Delivery_person_Age'].astype( int )\n",
        "\n",
        "\n",
        "# Alterando 'Delivery_person_Ratings' de object para float\n",
        "\n",
        "df1['Delivery_person_Ratings'] = df1['Delivery_person_Ratings'].astype( float )\n",
        "\n",
        "\n",
        "# Alterando 'Order_Date' de object para datetime\n",
        "\n",
        "df1['Order_Date'] = pd.to_datetime( df1['Order_Date'], format='%d-%m-%Y')\n",
        "\n",
        "\n",
        "# Alterando 'Order_Date' de object para datetime\n",
        "\n",
        "df1['Order_Date'] = pd.to_datetime( df1['Order_Date'], format='%d-%m-%Y')\n",
        "\n",
        "\n",
        "# Alterando 'Time_Orderd' de object para timedelta\n",
        "\n",
        "df1['Time_Orderd'] = df1['Time_Orderd'].str.replace(':', '').astype( float )\n",
        "\n",
        "df1['Time_Orderd'] = pd.to_timedelta( df1['Time_Orderd'], unit='m')\n",
        "\n",
        "\n",
        "# Alterando 'Time_Order_picked' de object para timedelta\n",
        "\n",
        "df1['Time_Order_picked'] = df1['Time_Order_picked'].str.replace(':', '').astype( float )\n",
        "\n",
        "df1['Time_Order_picked'] = pd.to_timedelta( df1['Time_Order_picked'], unit='m')\n",
        "\n",
        "\n",
        "'''# Eliminando 'conditions NaN' da coluna 'Weatherconditions'\n",
        "\n",
        "Weatherconditions = df1['Weatherconditions'] !='conditions NaN'\n",
        "\n",
        "df1 = df1.loc[Weatherconditions, :]\n",
        "\n",
        "df1['Weatherconditions'] = df1['Weatherconditions'].astype( object )'''\n",
        "\n",
        "\n",
        "# Alterando 'multiple_deliveries' de object para int\n",
        "\n",
        "multiple_deliveries = df1['multiple_deliveries'] != 'NaN '\n",
        "\n",
        "df1 = df1.loc[multiple_deliveries, :]\n",
        "\n",
        "df1['multiple_deliveries'] = df1['multiple_deliveries'].astype( int )\n",
        "\n",
        "\n",
        "# Função para remover caracteres não numéricos e converter para float\n",
        "\n",
        "def remove_nao_numericos_e_converte(valor):\n",
        "    string_numerica = re.sub(r'\\D', '', valor)\n",
        "    return float(string_numerica)\n",
        "\n",
        "'''Outra possibilidade...\n",
        "\n",
        "df1 = df1.reset_index ( drop=True )\n",
        "for i in range( len( df1 ) ):\n",
        "    df.loc[i, 'Time_taken(min)' ] = re.findall( r'\\d+', df.loc[i, 'Time_taken(min)'] )'''\n",
        "\n",
        "df1['Time_taken(min)'] = df1['Time_taken(min)'].apply(remove_nao_numericos_e_converte)\n",
        "\n",
        "# Alterando 'Time_taken(min)' de float para timedelta\n",
        "\n",
        "df1['Time_taken(min)'] = pd.to_timedelta( df1['Time_taken(min)'], unit='m')"
      ],
      "metadata": {
        "id": "5kthq8eRJgUw",
        "colab": {
          "base_uri": "https://localhost:8080/"
        },
        "outputId": "aad687f1-a53f-4f57-d7f5-6c0e6831b7dd"
      },
      "execution_count": null,
      "outputs": [
        {
          "output_type": "stream",
          "name": "stderr",
          "text": [
            "<ipython-input-5-39b99e816a96>:14: SettingWithCopyWarning: \n",
            "A value is trying to be set on a copy of a slice from a DataFrame.\n",
            "Try using .loc[row_indexer,col_indexer] = value instead\n",
            "\n",
            "See the caveats in the documentation: https://pandas.pydata.org/pandas-docs/stable/user_guide/indexing.html#returning-a-view-versus-a-copy\n",
            "  df1['Delivery_person_Age'] = df1['Delivery_person_Age'].astype( int )\n",
            "<ipython-input-5-39b99e816a96>:19: SettingWithCopyWarning: \n",
            "A value is trying to be set on a copy of a slice from a DataFrame.\n",
            "Try using .loc[row_indexer,col_indexer] = value instead\n",
            "\n",
            "See the caveats in the documentation: https://pandas.pydata.org/pandas-docs/stable/user_guide/indexing.html#returning-a-view-versus-a-copy\n",
            "  df1['Delivery_person_Ratings'] = df1['Delivery_person_Ratings'].astype( float )\n",
            "<ipython-input-5-39b99e816a96>:24: SettingWithCopyWarning: \n",
            "A value is trying to be set on a copy of a slice from a DataFrame.\n",
            "Try using .loc[row_indexer,col_indexer] = value instead\n",
            "\n",
            "See the caveats in the documentation: https://pandas.pydata.org/pandas-docs/stable/user_guide/indexing.html#returning-a-view-versus-a-copy\n",
            "  df1['Order_Date'] = pd.to_datetime( df1['Order_Date'], format='%d-%m-%Y')\n",
            "<ipython-input-5-39b99e816a96>:29: SettingWithCopyWarning: \n",
            "A value is trying to be set on a copy of a slice from a DataFrame.\n",
            "Try using .loc[row_indexer,col_indexer] = value instead\n",
            "\n",
            "See the caveats in the documentation: https://pandas.pydata.org/pandas-docs/stable/user_guide/indexing.html#returning-a-view-versus-a-copy\n",
            "  df1['Order_Date'] = pd.to_datetime( df1['Order_Date'], format='%d-%m-%Y')\n",
            "<ipython-input-5-39b99e816a96>:34: SettingWithCopyWarning: \n",
            "A value is trying to be set on a copy of a slice from a DataFrame.\n",
            "Try using .loc[row_indexer,col_indexer] = value instead\n",
            "\n",
            "See the caveats in the documentation: https://pandas.pydata.org/pandas-docs/stable/user_guide/indexing.html#returning-a-view-versus-a-copy\n",
            "  df1['Time_Orderd'] = df1['Time_Orderd'].str.replace(':', '').astype( float )\n",
            "<ipython-input-5-39b99e816a96>:36: SettingWithCopyWarning: \n",
            "A value is trying to be set on a copy of a slice from a DataFrame.\n",
            "Try using .loc[row_indexer,col_indexer] = value instead\n",
            "\n",
            "See the caveats in the documentation: https://pandas.pydata.org/pandas-docs/stable/user_guide/indexing.html#returning-a-view-versus-a-copy\n",
            "  df1['Time_Orderd'] = pd.to_timedelta( df1['Time_Orderd'], unit='m')\n",
            "<ipython-input-5-39b99e816a96>:41: SettingWithCopyWarning: \n",
            "A value is trying to be set on a copy of a slice from a DataFrame.\n",
            "Try using .loc[row_indexer,col_indexer] = value instead\n",
            "\n",
            "See the caveats in the documentation: https://pandas.pydata.org/pandas-docs/stable/user_guide/indexing.html#returning-a-view-versus-a-copy\n",
            "  df1['Time_Order_picked'] = df1['Time_Order_picked'].str.replace(':', '').astype( float )\n",
            "<ipython-input-5-39b99e816a96>:43: SettingWithCopyWarning: \n",
            "A value is trying to be set on a copy of a slice from a DataFrame.\n",
            "Try using .loc[row_indexer,col_indexer] = value instead\n",
            "\n",
            "See the caveats in the documentation: https://pandas.pydata.org/pandas-docs/stable/user_guide/indexing.html#returning-a-view-versus-a-copy\n",
            "  df1['Time_Order_picked'] = pd.to_timedelta( df1['Time_Order_picked'], unit='m')\n"
          ]
        }
      ]
    },
    {
      "cell_type": "markdown",
      "source": [
        "# ` DATAFRAME PARCIALMENTE LIMPO`"
      ],
      "metadata": {
        "id": "iBlsOxX7Lj5f"
      }
    },
    {
      "cell_type": "code",
      "source": [
        "df1.dtypes"
      ],
      "metadata": {
        "colab": {
          "base_uri": "https://localhost:8080/"
        },
        "id": "W5tizG_4buis",
        "outputId": "f8695551-0dd0-4dab-c55a-47ec32fa49b2"
      },
      "execution_count": null,
      "outputs": [
        {
          "output_type": "execute_result",
          "data": {
            "text/plain": [
              "ID                                      object\n",
              "Delivery_person_ID                      object\n",
              "Delivery_person_Age                      int64\n",
              "Delivery_person_Ratings                float64\n",
              "Restaurant_latitude                    float64\n",
              "Restaurant_longitude                   float64\n",
              "Delivery_location_latitude             float64\n",
              "Delivery_location_longitude            float64\n",
              "Order_Date                      datetime64[ns]\n",
              "Time_Orderd                    timedelta64[ns]\n",
              "Time_Order_picked              timedelta64[ns]\n",
              "Weatherconditions                       object\n",
              "Road_traffic_density                    object\n",
              "Vehicle_condition                        int64\n",
              "Type_of_order                           object\n",
              "Type_of_vehicle                         object\n",
              "multiple_deliveries                      int64\n",
              "Festival                                object\n",
              "City                                    object\n",
              "Time_taken(min)                timedelta64[ns]\n",
              "dtype: object"
            ]
          },
          "metadata": {},
          "execution_count": 8
        }
      ]
    },
    {
      "cell_type": "code",
      "source": [
        "df = df1.copy()"
      ],
      "metadata": {
        "id": "HBZEkTKMgv12"
      },
      "execution_count": null,
      "outputs": []
    },
    {
      "cell_type": "markdown",
      "source": [
        "# 1. Qual o número total de entregas cadastradas na base de dados?"
      ],
      "metadata": {
        "id": "1AX1N5BtTKU8"
      }
    },
    {
      "cell_type": "code",
      "source": [
        "df.head(3)"
      ],
      "metadata": {
        "id": "UK5arTfjTDKU",
        "colab": {
          "base_uri": "https://localhost:8080/",
          "height": 260
        },
        "outputId": "9691f3ea-af13-45d4-eef5-50c85a109b57"
      },
      "execution_count": null,
      "outputs": [
        {
          "output_type": "execute_result",
          "data": {
            "text/plain": [
              "       ID Delivery_person_ID  Delivery_person_Age  Delivery_person_Ratings  \\\n",
              "0  0x4607    INDORES13DEL02                    37                      4.9   \n",
              "1  0xb379    BANGRES18DEL02                    34                      4.5   \n",
              "2  0x5d6d    BANGRES19DEL01                    23                      4.4   \n",
              "\n",
              "   Restaurant_latitude  Restaurant_longitude  Delivery_location_latitude  \\\n",
              "0            22.745049             75.892471                   22.765049   \n",
              "1            12.913041             77.683237                   13.043041   \n",
              "2            12.914264             77.678400                   12.924264   \n",
              "\n",
              "   Delivery_location_longitude Order_Date       Time_Orderd Time_Order_picked  \\\n",
              "0                    75.912471 2022-03-19  78 days 11:20:00  79 days 12:20:00   \n",
              "1                    77.813237 2022-03-25 135 days 01:40:00 135 days 10:00:00   \n",
              "2                    77.688400 2022-03-19  57 days 15:20:00  58 days 16:20:00   \n",
              "\n",
              "       Weatherconditions Road_traffic_density  Vehicle_condition  \\\n",
              "0       conditions Sunny                High                   2   \n",
              "1      conditions Stormy                 Jam                   2   \n",
              "2  conditions Sandstorms                 Low                   0   \n",
              "\n",
              "  Type_of_order Type_of_vehicle  multiple_deliveries Festival            City  \\\n",
              "0        Snack      motorcycle                     0      No           Urban    \n",
              "1        Snack         scooter                     1      No   Metropolitian    \n",
              "2       Drinks      motorcycle                     1      No           Urban    \n",
              "\n",
              "  Time_taken(min)  \n",
              "0 0 days 00:24:00  \n",
              "1 0 days 00:33:00  \n",
              "2 0 days 00:26:00  "
            ],
            "text/html": [
              "\n",
              "  <div id=\"df-57715b0a-2f81-4c2e-9c79-11dc7c88bd63\">\n",
              "    <div class=\"colab-df-container\">\n",
              "      <div>\n",
              "<style scoped>\n",
              "    .dataframe tbody tr th:only-of-type {\n",
              "        vertical-align: middle;\n",
              "    }\n",
              "\n",
              "    .dataframe tbody tr th {\n",
              "        vertical-align: top;\n",
              "    }\n",
              "\n",
              "    .dataframe thead th {\n",
              "        text-align: right;\n",
              "    }\n",
              "</style>\n",
              "<table border=\"1\" class=\"dataframe\">\n",
              "  <thead>\n",
              "    <tr style=\"text-align: right;\">\n",
              "      <th></th>\n",
              "      <th>ID</th>\n",
              "      <th>Delivery_person_ID</th>\n",
              "      <th>Delivery_person_Age</th>\n",
              "      <th>Delivery_person_Ratings</th>\n",
              "      <th>Restaurant_latitude</th>\n",
              "      <th>Restaurant_longitude</th>\n",
              "      <th>Delivery_location_latitude</th>\n",
              "      <th>Delivery_location_longitude</th>\n",
              "      <th>Order_Date</th>\n",
              "      <th>Time_Orderd</th>\n",
              "      <th>Time_Order_picked</th>\n",
              "      <th>Weatherconditions</th>\n",
              "      <th>Road_traffic_density</th>\n",
              "      <th>Vehicle_condition</th>\n",
              "      <th>Type_of_order</th>\n",
              "      <th>Type_of_vehicle</th>\n",
              "      <th>multiple_deliveries</th>\n",
              "      <th>Festival</th>\n",
              "      <th>City</th>\n",
              "      <th>Time_taken(min)</th>\n",
              "    </tr>\n",
              "  </thead>\n",
              "  <tbody>\n",
              "    <tr>\n",
              "      <th>0</th>\n",
              "      <td>0x4607</td>\n",
              "      <td>INDORES13DEL02</td>\n",
              "      <td>37</td>\n",
              "      <td>4.9</td>\n",
              "      <td>22.745049</td>\n",
              "      <td>75.892471</td>\n",
              "      <td>22.765049</td>\n",
              "      <td>75.912471</td>\n",
              "      <td>2022-03-19</td>\n",
              "      <td>78 days 11:20:00</td>\n",
              "      <td>79 days 12:20:00</td>\n",
              "      <td>conditions Sunny</td>\n",
              "      <td>High</td>\n",
              "      <td>2</td>\n",
              "      <td>Snack</td>\n",
              "      <td>motorcycle</td>\n",
              "      <td>0</td>\n",
              "      <td>No</td>\n",
              "      <td>Urban</td>\n",
              "      <td>0 days 00:24:00</td>\n",
              "    </tr>\n",
              "    <tr>\n",
              "      <th>1</th>\n",
              "      <td>0xb379</td>\n",
              "      <td>BANGRES18DEL02</td>\n",
              "      <td>34</td>\n",
              "      <td>4.5</td>\n",
              "      <td>12.913041</td>\n",
              "      <td>77.683237</td>\n",
              "      <td>13.043041</td>\n",
              "      <td>77.813237</td>\n",
              "      <td>2022-03-25</td>\n",
              "      <td>135 days 01:40:00</td>\n",
              "      <td>135 days 10:00:00</td>\n",
              "      <td>conditions Stormy</td>\n",
              "      <td>Jam</td>\n",
              "      <td>2</td>\n",
              "      <td>Snack</td>\n",
              "      <td>scooter</td>\n",
              "      <td>1</td>\n",
              "      <td>No</td>\n",
              "      <td>Metropolitian</td>\n",
              "      <td>0 days 00:33:00</td>\n",
              "    </tr>\n",
              "    <tr>\n",
              "      <th>2</th>\n",
              "      <td>0x5d6d</td>\n",
              "      <td>BANGRES19DEL01</td>\n",
              "      <td>23</td>\n",
              "      <td>4.4</td>\n",
              "      <td>12.914264</td>\n",
              "      <td>77.678400</td>\n",
              "      <td>12.924264</td>\n",
              "      <td>77.688400</td>\n",
              "      <td>2022-03-19</td>\n",
              "      <td>57 days 15:20:00</td>\n",
              "      <td>58 days 16:20:00</td>\n",
              "      <td>conditions Sandstorms</td>\n",
              "      <td>Low</td>\n",
              "      <td>0</td>\n",
              "      <td>Drinks</td>\n",
              "      <td>motorcycle</td>\n",
              "      <td>1</td>\n",
              "      <td>No</td>\n",
              "      <td>Urban</td>\n",
              "      <td>0 days 00:26:00</td>\n",
              "    </tr>\n",
              "  </tbody>\n",
              "</table>\n",
              "</div>\n",
              "      <button class=\"colab-df-convert\" onclick=\"convertToInteractive('df-57715b0a-2f81-4c2e-9c79-11dc7c88bd63')\"\n",
              "              title=\"Convert this dataframe to an interactive table.\"\n",
              "              style=\"display:none;\">\n",
              "        \n",
              "  <svg xmlns=\"http://www.w3.org/2000/svg\" height=\"24px\"viewBox=\"0 0 24 24\"\n",
              "       width=\"24px\">\n",
              "    <path d=\"M0 0h24v24H0V0z\" fill=\"none\"/>\n",
              "    <path d=\"M18.56 5.44l.94 2.06.94-2.06 2.06-.94-2.06-.94-.94-2.06-.94 2.06-2.06.94zm-11 1L8.5 8.5l.94-2.06 2.06-.94-2.06-.94L8.5 2.5l-.94 2.06-2.06.94zm10 10l.94 2.06.94-2.06 2.06-.94-2.06-.94-.94-2.06-.94 2.06-2.06.94z\"/><path d=\"M17.41 7.96l-1.37-1.37c-.4-.4-.92-.59-1.43-.59-.52 0-1.04.2-1.43.59L10.3 9.45l-7.72 7.72c-.78.78-.78 2.05 0 2.83L4 21.41c.39.39.9.59 1.41.59.51 0 1.02-.2 1.41-.59l7.78-7.78 2.81-2.81c.8-.78.8-2.07 0-2.86zM5.41 20L4 18.59l7.72-7.72 1.47 1.35L5.41 20z\"/>\n",
              "  </svg>\n",
              "      </button>\n",
              "      \n",
              "  <style>\n",
              "    .colab-df-container {\n",
              "      display:flex;\n",
              "      flex-wrap:wrap;\n",
              "      gap: 12px;\n",
              "    }\n",
              "\n",
              "    .colab-df-convert {\n",
              "      background-color: #E8F0FE;\n",
              "      border: none;\n",
              "      border-radius: 50%;\n",
              "      cursor: pointer;\n",
              "      display: none;\n",
              "      fill: #1967D2;\n",
              "      height: 32px;\n",
              "      padding: 0 0 0 0;\n",
              "      width: 32px;\n",
              "    }\n",
              "\n",
              "    .colab-df-convert:hover {\n",
              "      background-color: #E2EBFA;\n",
              "      box-shadow: 0px 1px 2px rgba(60, 64, 67, 0.3), 0px 1px 3px 1px rgba(60, 64, 67, 0.15);\n",
              "      fill: #174EA6;\n",
              "    }\n",
              "\n",
              "    [theme=dark] .colab-df-convert {\n",
              "      background-color: #3B4455;\n",
              "      fill: #D2E3FC;\n",
              "    }\n",
              "\n",
              "    [theme=dark] .colab-df-convert:hover {\n",
              "      background-color: #434B5C;\n",
              "      box-shadow: 0px 1px 3px 1px rgba(0, 0, 0, 0.15);\n",
              "      filter: drop-shadow(0px 1px 2px rgba(0, 0, 0, 0.3));\n",
              "      fill: #FFFFFF;\n",
              "    }\n",
              "  </style>\n",
              "\n",
              "      <script>\n",
              "        const buttonEl =\n",
              "          document.querySelector('#df-57715b0a-2f81-4c2e-9c79-11dc7c88bd63 button.colab-df-convert');\n",
              "        buttonEl.style.display =\n",
              "          google.colab.kernel.accessAllowed ? 'block' : 'none';\n",
              "\n",
              "        async function convertToInteractive(key) {\n",
              "          const element = document.querySelector('#df-57715b0a-2f81-4c2e-9c79-11dc7c88bd63');\n",
              "          const dataTable =\n",
              "            await google.colab.kernel.invokeFunction('convertToInteractive',\n",
              "                                                     [key], {});\n",
              "          if (!dataTable) return;\n",
              "\n",
              "          const docLinkHtml = 'Like what you see? Visit the ' +\n",
              "            '<a target=\"_blank\" href=https://colab.research.google.com/notebooks/data_table.ipynb>data table notebook</a>'\n",
              "            + ' to learn more about interactive tables.';\n",
              "          element.innerHTML = '';\n",
              "          dataTable['output_type'] = 'display_data';\n",
              "          await google.colab.output.renderOutput(dataTable, element);\n",
              "          const docLink = document.createElement('div');\n",
              "          docLink.innerHTML = docLinkHtml;\n",
              "          element.appendChild(docLink);\n",
              "        }\n",
              "      </script>\n",
              "    </div>\n",
              "  </div>\n",
              "  "
            ]
          },
          "metadata": {},
          "execution_count": 10
        }
      ]
    },
    {
      "cell_type": "code",
      "source": [
        "df.loc[:, ['Delivery_person_ID'] ].count()\n"
      ],
      "metadata": {
        "colab": {
          "base_uri": "https://localhost:8080/"
        },
        "id": "Cu_M3LKyMIlj",
        "outputId": "6a498a5e-edd1-4661-a724-9dca39da1826"
      },
      "execution_count": null,
      "outputs": [
        {
          "output_type": "execute_result",
          "data": {
            "text/plain": [
              "Delivery_person_ID    42805\n",
              "dtype: int64"
            ]
          },
          "metadata": {},
          "execution_count": 11
        }
      ]
    },
    {
      "cell_type": "markdown",
      "source": [
        "# 2. Qual o número total de entregadores únicos cadastrados na base de dados?"
      ],
      "metadata": {
        "id": "vnTNBO0qOY35"
      }
    },
    {
      "cell_type": "code",
      "source": [
        "#len( df['Delivery_person_ID'].unique() )\n",
        "\n",
        "df.loc[:, ['Delivery_person_ID'] ].nunique()\n"
      ],
      "metadata": {
        "colab": {
          "base_uri": "https://localhost:8080/"
        },
        "id": "qOWyA3LwMtDr",
        "outputId": "95109bed-bd6d-47ba-9a8b-f4e959866561"
      },
      "execution_count": null,
      "outputs": [
        {
          "output_type": "execute_result",
          "data": {
            "text/plain": [
              "Delivery_person_ID    1320\n",
              "dtype: int64"
            ]
          },
          "metadata": {},
          "execution_count": 12
        }
      ]
    },
    {
      "cell_type": "markdown",
      "source": [
        "# 3. Qual a idade do entregador mais velho? E do mais novo?\n"
      ],
      "metadata": {
        "id": "nHVM3eVtPJwB"
      }
    },
    {
      "cell_type": "code",
      "source": [
        "#df.sort_values('Delivery_person_Age', ascending=False)\n",
        "#df.iloc[0,2]\n",
        "#df.iloc[-1,2]\n",
        "\n",
        "print(df.loc[:, ['Delivery_person_Age'] ].max())\n",
        "print(df.loc[:, ['Delivery_person_Age'] ].min())"
      ],
      "metadata": {
        "colab": {
          "base_uri": "https://localhost:8080/"
        },
        "id": "OzkrjDg6OoWl",
        "outputId": "1cbff936-21f8-42c1-bfe2-6a695d5df773"
      },
      "execution_count": null,
      "outputs": [
        {
          "output_type": "stream",
          "name": "stdout",
          "text": [
            "Delivery_person_Age    50\n",
            "dtype: int64\n",
            "Delivery_person_Age    15\n",
            "dtype: int64\n"
          ]
        }
      ]
    },
    {
      "cell_type": "markdown",
      "source": [
        "# 4. Qual o ID do entregador com a maior idade? E o ID do entregador com a menor idade?"
      ],
      "metadata": {
        "id": "pFKZPw3-RqLA"
      }
    },
    {
      "cell_type": "code",
      "source": [
        "df_aux = df.sort_values('Delivery_person_Age', ascending=False)\n",
        "print( df_aux.iloc[0,1] )\n",
        "print( df_aux.iloc[-1,1] )"
      ],
      "metadata": {
        "colab": {
          "base_uri": "https://localhost:8080/"
        },
        "id": "TvXPrlKxRgzw",
        "outputId": "0947e490-f622-44c0-ae01-d3366ccb4365"
      },
      "execution_count": null,
      "outputs": [
        {
          "output_type": "stream",
          "name": "stdout",
          "text": [
            "KNPRES03DEL03 \n",
            "CHENRES03DEL02 \n"
          ]
        }
      ]
    },
    {
      "cell_type": "markdown",
      "source": [
        "# 5. Quais os nomes das condições climáticas?"
      ],
      "metadata": {
        "id": "X3mgxEVdV0Tb"
      }
    },
    {
      "cell_type": "code",
      "source": [
        "df['Weatherconditions' ].unique()\n"
      ],
      "metadata": {
        "colab": {
          "base_uri": "https://localhost:8080/"
        },
        "id": "dzt60oOAVdTs",
        "outputId": "7e6d289c-1ced-40d3-abbf-448e02766f79"
      },
      "execution_count": null,
      "outputs": [
        {
          "output_type": "execute_result",
          "data": {
            "text/plain": [
              "array(['conditions Sunny', 'conditions Stormy', 'conditions Sandstorms',\n",
              "       'conditions Cloudy', 'conditions Fog', 'conditions Windy',\n",
              "       'conditions NaN'], dtype=object)"
            ]
          },
          "metadata": {},
          "execution_count": 15
        }
      ]
    },
    {
      "cell_type": "markdown",
      "source": [
        "# 6. Quantas entregas foram realizadas sob condições climáticas de tempestade de areia? ( Sandstorms )\n"
      ],
      "metadata": {
        "id": "UmW-EORDXASH"
      }
    },
    {
      "cell_type": "code",
      "source": [
        "'''filter = df['Weatherconditions'] == 'conditions Sandstorms'\n",
        "\n",
        "len( df.loc[filter, 'ID'] )'''\n",
        "\n",
        "df.loc[ df['Weatherconditions'] =='conditions Sandstorms' ].shape[0]"
      ],
      "metadata": {
        "id": "3FZ0lgqMWMw0",
        "colab": {
          "base_uri": "https://localhost:8080/"
        },
        "outputId": "18c5308e-b027-4bf6-84d3-aa483391bcff"
      },
      "execution_count": null,
      "outputs": [
        {
          "output_type": "execute_result",
          "data": {
            "text/plain": [
              "7083"
            ]
          },
          "metadata": {},
          "execution_count": 16
        }
      ]
    },
    {
      "cell_type": "markdown",
      "source": [
        "# 7. Quais eram as condicões climáticas da data mais recente de entrega?"
      ],
      "metadata": {
        "id": "BV-1_hScZ7-d"
      }
    },
    {
      "cell_type": "code",
      "source": [
        "df.head(2)"
      ],
      "metadata": {
        "id": "EgzY4140ZlWi",
        "colab": {
          "base_uri": "https://localhost:8080/",
          "height": 211
        },
        "outputId": "f86faf91-881e-4dd5-d266-9e2ce1e6f5e3"
      },
      "execution_count": null,
      "outputs": [
        {
          "output_type": "execute_result",
          "data": {
            "text/plain": [
              "       ID Delivery_person_ID  Delivery_person_Age  Delivery_person_Ratings  \\\n",
              "0  0x4607    INDORES13DEL02                    37                      4.9   \n",
              "1  0xb379    BANGRES18DEL02                    34                      4.5   \n",
              "\n",
              "   Restaurant_latitude  Restaurant_longitude  Delivery_location_latitude  \\\n",
              "0            22.745049             75.892471                   22.765049   \n",
              "1            12.913041             77.683237                   13.043041   \n",
              "\n",
              "   Delivery_location_longitude Order_Date       Time_Orderd Time_Order_picked  \\\n",
              "0                    75.912471 2022-03-19  78 days 11:20:00  79 days 12:20:00   \n",
              "1                    77.813237 2022-03-25 135 days 01:40:00 135 days 10:00:00   \n",
              "\n",
              "   Weatherconditions Road_traffic_density  Vehicle_condition Type_of_order  \\\n",
              "0   conditions Sunny                High                   2        Snack    \n",
              "1  conditions Stormy                 Jam                   2        Snack    \n",
              "\n",
              "  Type_of_vehicle  multiple_deliveries Festival            City  \\\n",
              "0     motorcycle                     0      No           Urban    \n",
              "1        scooter                     1      No   Metropolitian    \n",
              "\n",
              "  Time_taken(min)  \n",
              "0 0 days 00:24:00  \n",
              "1 0 days 00:33:00  "
            ],
            "text/html": [
              "\n",
              "  <div id=\"df-1caeb9c5-1008-48d8-b041-2fce4a3fb7ee\">\n",
              "    <div class=\"colab-df-container\">\n",
              "      <div>\n",
              "<style scoped>\n",
              "    .dataframe tbody tr th:only-of-type {\n",
              "        vertical-align: middle;\n",
              "    }\n",
              "\n",
              "    .dataframe tbody tr th {\n",
              "        vertical-align: top;\n",
              "    }\n",
              "\n",
              "    .dataframe thead th {\n",
              "        text-align: right;\n",
              "    }\n",
              "</style>\n",
              "<table border=\"1\" class=\"dataframe\">\n",
              "  <thead>\n",
              "    <tr style=\"text-align: right;\">\n",
              "      <th></th>\n",
              "      <th>ID</th>\n",
              "      <th>Delivery_person_ID</th>\n",
              "      <th>Delivery_person_Age</th>\n",
              "      <th>Delivery_person_Ratings</th>\n",
              "      <th>Restaurant_latitude</th>\n",
              "      <th>Restaurant_longitude</th>\n",
              "      <th>Delivery_location_latitude</th>\n",
              "      <th>Delivery_location_longitude</th>\n",
              "      <th>Order_Date</th>\n",
              "      <th>Time_Orderd</th>\n",
              "      <th>Time_Order_picked</th>\n",
              "      <th>Weatherconditions</th>\n",
              "      <th>Road_traffic_density</th>\n",
              "      <th>Vehicle_condition</th>\n",
              "      <th>Type_of_order</th>\n",
              "      <th>Type_of_vehicle</th>\n",
              "      <th>multiple_deliveries</th>\n",
              "      <th>Festival</th>\n",
              "      <th>City</th>\n",
              "      <th>Time_taken(min)</th>\n",
              "    </tr>\n",
              "  </thead>\n",
              "  <tbody>\n",
              "    <tr>\n",
              "      <th>0</th>\n",
              "      <td>0x4607</td>\n",
              "      <td>INDORES13DEL02</td>\n",
              "      <td>37</td>\n",
              "      <td>4.9</td>\n",
              "      <td>22.745049</td>\n",
              "      <td>75.892471</td>\n",
              "      <td>22.765049</td>\n",
              "      <td>75.912471</td>\n",
              "      <td>2022-03-19</td>\n",
              "      <td>78 days 11:20:00</td>\n",
              "      <td>79 days 12:20:00</td>\n",
              "      <td>conditions Sunny</td>\n",
              "      <td>High</td>\n",
              "      <td>2</td>\n",
              "      <td>Snack</td>\n",
              "      <td>motorcycle</td>\n",
              "      <td>0</td>\n",
              "      <td>No</td>\n",
              "      <td>Urban</td>\n",
              "      <td>0 days 00:24:00</td>\n",
              "    </tr>\n",
              "    <tr>\n",
              "      <th>1</th>\n",
              "      <td>0xb379</td>\n",
              "      <td>BANGRES18DEL02</td>\n",
              "      <td>34</td>\n",
              "      <td>4.5</td>\n",
              "      <td>12.913041</td>\n",
              "      <td>77.683237</td>\n",
              "      <td>13.043041</td>\n",
              "      <td>77.813237</td>\n",
              "      <td>2022-03-25</td>\n",
              "      <td>135 days 01:40:00</td>\n",
              "      <td>135 days 10:00:00</td>\n",
              "      <td>conditions Stormy</td>\n",
              "      <td>Jam</td>\n",
              "      <td>2</td>\n",
              "      <td>Snack</td>\n",
              "      <td>scooter</td>\n",
              "      <td>1</td>\n",
              "      <td>No</td>\n",
              "      <td>Metropolitian</td>\n",
              "      <td>0 days 00:33:00</td>\n",
              "    </tr>\n",
              "  </tbody>\n",
              "</table>\n",
              "</div>\n",
              "      <button class=\"colab-df-convert\" onclick=\"convertToInteractive('df-1caeb9c5-1008-48d8-b041-2fce4a3fb7ee')\"\n",
              "              title=\"Convert this dataframe to an interactive table.\"\n",
              "              style=\"display:none;\">\n",
              "        \n",
              "  <svg xmlns=\"http://www.w3.org/2000/svg\" height=\"24px\"viewBox=\"0 0 24 24\"\n",
              "       width=\"24px\">\n",
              "    <path d=\"M0 0h24v24H0V0z\" fill=\"none\"/>\n",
              "    <path d=\"M18.56 5.44l.94 2.06.94-2.06 2.06-.94-2.06-.94-.94-2.06-.94 2.06-2.06.94zm-11 1L8.5 8.5l.94-2.06 2.06-.94-2.06-.94L8.5 2.5l-.94 2.06-2.06.94zm10 10l.94 2.06.94-2.06 2.06-.94-2.06-.94-.94-2.06-.94 2.06-2.06.94z\"/><path d=\"M17.41 7.96l-1.37-1.37c-.4-.4-.92-.59-1.43-.59-.52 0-1.04.2-1.43.59L10.3 9.45l-7.72 7.72c-.78.78-.78 2.05 0 2.83L4 21.41c.39.39.9.59 1.41.59.51 0 1.02-.2 1.41-.59l7.78-7.78 2.81-2.81c.8-.78.8-2.07 0-2.86zM5.41 20L4 18.59l7.72-7.72 1.47 1.35L5.41 20z\"/>\n",
              "  </svg>\n",
              "      </button>\n",
              "      \n",
              "  <style>\n",
              "    .colab-df-container {\n",
              "      display:flex;\n",
              "      flex-wrap:wrap;\n",
              "      gap: 12px;\n",
              "    }\n",
              "\n",
              "    .colab-df-convert {\n",
              "      background-color: #E8F0FE;\n",
              "      border: none;\n",
              "      border-radius: 50%;\n",
              "      cursor: pointer;\n",
              "      display: none;\n",
              "      fill: #1967D2;\n",
              "      height: 32px;\n",
              "      padding: 0 0 0 0;\n",
              "      width: 32px;\n",
              "    }\n",
              "\n",
              "    .colab-df-convert:hover {\n",
              "      background-color: #E2EBFA;\n",
              "      box-shadow: 0px 1px 2px rgba(60, 64, 67, 0.3), 0px 1px 3px 1px rgba(60, 64, 67, 0.15);\n",
              "      fill: #174EA6;\n",
              "    }\n",
              "\n",
              "    [theme=dark] .colab-df-convert {\n",
              "      background-color: #3B4455;\n",
              "      fill: #D2E3FC;\n",
              "    }\n",
              "\n",
              "    [theme=dark] .colab-df-convert:hover {\n",
              "      background-color: #434B5C;\n",
              "      box-shadow: 0px 1px 3px 1px rgba(0, 0, 0, 0.15);\n",
              "      filter: drop-shadow(0px 1px 2px rgba(0, 0, 0, 0.3));\n",
              "      fill: #FFFFFF;\n",
              "    }\n",
              "  </style>\n",
              "\n",
              "      <script>\n",
              "        const buttonEl =\n",
              "          document.querySelector('#df-1caeb9c5-1008-48d8-b041-2fce4a3fb7ee button.colab-df-convert');\n",
              "        buttonEl.style.display =\n",
              "          google.colab.kernel.accessAllowed ? 'block' : 'none';\n",
              "\n",
              "        async function convertToInteractive(key) {\n",
              "          const element = document.querySelector('#df-1caeb9c5-1008-48d8-b041-2fce4a3fb7ee');\n",
              "          const dataTable =\n",
              "            await google.colab.kernel.invokeFunction('convertToInteractive',\n",
              "                                                     [key], {});\n",
              "          if (!dataTable) return;\n",
              "\n",
              "          const docLinkHtml = 'Like what you see? Visit the ' +\n",
              "            '<a target=\"_blank\" href=https://colab.research.google.com/notebooks/data_table.ipynb>data table notebook</a>'\n",
              "            + ' to learn more about interactive tables.';\n",
              "          element.innerHTML = '';\n",
              "          dataTable['output_type'] = 'display_data';\n",
              "          await google.colab.output.renderOutput(dataTable, element);\n",
              "          const docLink = document.createElement('div');\n",
              "          docLink.innerHTML = docLinkHtml;\n",
              "          element.appendChild(docLink);\n",
              "        }\n",
              "      </script>\n",
              "    </div>\n",
              "  </div>\n",
              "  "
            ]
          },
          "metadata": {},
          "execution_count": 17
        }
      ]
    },
    {
      "cell_type": "code",
      "source": [
        "df_clima_entrega = df.sort_values('Order_Date', ascending=False)\n",
        "\n",
        "print( df_clima_entrega.iloc[0, 11] )"
      ],
      "metadata": {
        "colab": {
          "base_uri": "https://localhost:8080/"
        },
        "id": "Rgf3b50CP0lH",
        "outputId": "45612393-0140-477b-8dc4-68de48f7d877"
      },
      "execution_count": null,
      "outputs": [
        {
          "output_type": "stream",
          "name": "stdout",
          "text": [
            "conditions Windy\n"
          ]
        }
      ]
    },
    {
      "cell_type": "markdown",
      "source": [
        "# 8. Quantos tipos de densidade de trânsito existem na base de dados? Quais os nomes delas?\n"
      ],
      "metadata": {
        "id": "HKutxKqPTJYM"
      }
    },
    {
      "cell_type": "code",
      "source": [
        "print( len( df.loc[:, 'Road_traffic_density'].unique() ) )\n",
        "print( df.loc[:, 'Road_traffic_density'].unique() )\n"
      ],
      "metadata": {
        "colab": {
          "base_uri": "https://localhost:8080/"
        },
        "id": "IldV1rrYQDwL",
        "outputId": "5064e0aa-6417-4fd9-a56d-5a1420fd0619"
      },
      "execution_count": null,
      "outputs": [
        {
          "output_type": "stream",
          "name": "stdout",
          "text": [
            "5\n",
            "['High ' 'Jam ' 'Low ' 'Medium ' 'NaN ']\n"
          ]
        }
      ]
    },
    {
      "cell_type": "markdown",
      "source": [
        "# 9. Quantas entregas foram feitas em cada condição climática?"
      ],
      "metadata": {
        "id": "CZ8ee8NWVQTE"
      }
    },
    {
      "cell_type": "code",
      "source": [
        "climas = df['Weatherconditions'].unique()\n",
        "\n",
        "for delivery_clima in climas:\n",
        "  qtd_entregas = df.loc[df['Weatherconditions'] == delivery_clima, :].shape[0]\n",
        "  print(f\"A quantidade de entregas do clima {delivery_clima} é de: {qtd_entregas}\")"
      ],
      "metadata": {
        "colab": {
          "base_uri": "https://localhost:8080/"
        },
        "id": "hQhmNbF4TiGf",
        "outputId": "02a05998-19f3-4b4a-fd1a-a6d3d74675d9"
      },
      "execution_count": null,
      "outputs": [
        {
          "output_type": "stream",
          "name": "stdout",
          "text": [
            "A quantidade de entregas do clima conditions Sunny é de: 6904\n",
            "A quantidade de entregas do clima conditions Stormy é de: 7226\n",
            "A quantidade de entregas do clima conditions Sandstorms é de: 7083\n",
            "A quantidade de entregas do clima conditions Cloudy é de: 7135\n",
            "A quantidade de entregas do clima conditions Fog é de: 7288\n",
            "A quantidade de entregas do clima conditions Windy é de: 7078\n",
            "A quantidade de entregas do clima conditions NaN é de: 91\n"
          ]
        }
      ]
    },
    {
      "cell_type": "markdown",
      "source": [
        "# 10. Quantos entregadores únicos fizeram entregas em cada condição climática?"
      ],
      "metadata": {
        "id": "5MZXbLKhq_wQ"
      }
    },
    {
      "cell_type": "code",
      "source": [
        "c_clima = df['Weatherconditions'].unique()\n",
        "\n",
        "for conds_clima in c_clima:\n",
        "  qtd_entregadores = len(df.loc[df['Weatherconditions'] == conds_clima, 'Delivery_person_ID' ].unique())\n",
        "  print(f\"A quantidade de entregadores únicos é de {qtd_entregadores} para cada condição climática do tipo {conds_clima}\")"
      ],
      "metadata": {
        "colab": {
          "base_uri": "https://localhost:8080/"
        },
        "id": "HgyvaNQfoA8O",
        "outputId": "20cf1500-22bc-45e3-bb92-2b3eb0091970"
      },
      "execution_count": null,
      "outputs": [
        {
          "output_type": "stream",
          "name": "stdout",
          "text": [
            "A quantidade de entregadores únicos é de 1233 para cada condição climática do tipo conditions Sunny\n",
            "A quantidade de entregadores únicos é de 1234 para cada condição climática do tipo conditions Stormy\n",
            "A quantidade de entregadores únicos é de 1239 para cada condição climática do tipo conditions Sandstorms\n",
            "A quantidade de entregadores únicos é de 1246 para cada condição climática do tipo conditions Cloudy\n",
            "A quantidade de entregadores únicos é de 1251 para cada condição climática do tipo conditions Fog\n",
            "A quantidade de entregadores únicos é de 1230 para cada condição climática do tipo conditions Windy\n",
            "A quantidade de entregadores únicos é de 87 para cada condição climática do tipo conditions NaN\n"
          ]
        }
      ]
    },
    {
      "cell_type": "markdown",
      "source": [
        "# 11. Quantas entregas foram feitas em cada tipo de densidade de trânsito?"
      ],
      "metadata": {
        "id": "MFZJh_Y1xzin"
      }
    },
    {
      "cell_type": "code",
      "source": [
        "densidade_transito = df['Road_traffic_density'].unique()\n",
        "\n",
        "for traffic in densidade_transito:\n",
        "  qtd_entregas1 = df.loc[df['Road_traffic_density'] == traffic, 'multiple_deliveries'].shape[0]\n",
        "  print(f\"A quantidade de entregas feitas é de {qtd_entregas1} com densidade de trânsito do tipo {traffic}\")"
      ],
      "metadata": {
        "colab": {
          "base_uri": "https://localhost:8080/"
        },
        "id": "DC_lDuosrX5p",
        "outputId": "1adb689f-24b7-4a01-d857-ebfc1ce2592f"
      },
      "execution_count": null,
      "outputs": [
        {
          "output_type": "stream",
          "name": "stdout",
          "text": [
            "A quantidade de entregas feitas é de 4212 com densidade de trânsito do tipo High \n",
            "A quantidade de entregas feitas é de 13480 com densidade de trânsito do tipo Jam \n",
            "A quantidade de entregas feitas é de 14605 com densidade de trânsito do tipo Low \n",
            "A quantidade de entregas feitas é de 10417 com densidade de trânsito do tipo Medium \n",
            "A quantidade de entregas feitas é de 91 com densidade de trânsito do tipo NaN \n"
          ]
        }
      ]
    },
    {
      "cell_type": "markdown",
      "source": [
        "# 12. Quantos entregadores únicos fizeram entregas em cada tipo de densidade de trânsito?"
      ],
      "metadata": {
        "id": "Vpf8dE431xA3"
      }
    },
    {
      "cell_type": "code",
      "source": [
        "den_tran = df['Road_traffic_density'].unique()\n",
        "\n",
        "for densi_tran in den_tran:\n",
        "  qtd_entregadores = len(df.loc[df['Road_traffic_density'] == densi_tran, 'Delivery_person_ID' ].unique())\n",
        "  print(f\"A quantidade de entregadores únicos é de {qtd_entregadores} para cada condição climática do tipo {densi_tran}\")"
      ],
      "metadata": {
        "colab": {
          "base_uri": "https://localhost:8080/"
        },
        "id": "NQ4wR15NyWwD",
        "outputId": "2f093775-d06f-4ddb-e626-ac6b0b6ecb5c"
      },
      "execution_count": null,
      "outputs": [
        {
          "output_type": "stream",
          "name": "stdout",
          "text": [
            "A quantidade de entregadores únicos é de 787 para cada condição climática do tipo High \n",
            "A quantidade de entregadores únicos é de 1306 para cada condição climática do tipo Jam \n",
            "A quantidade de entregadores únicos é de 1310 para cada condição climática do tipo Low \n",
            "A quantidade de entregadores únicos é de 1287 para cada condição climática do tipo Medium \n",
            "A quantidade de entregadores únicos é de 87 para cada condição climática do tipo NaN \n"
          ]
        }
      ]
    },
    {
      "cell_type": "markdown",
      "source": [
        "# 13. Quantas cidades únicas existem na base? Quais são os seus nomes?\n"
      ],
      "metadata": {
        "id": "wUS9lFcP3yYN"
      }
    },
    {
      "cell_type": "code",
      "source": [
        "print(len(df['City'].unique()))\n",
        "print(df['City'].unique())"
      ],
      "metadata": {
        "colab": {
          "base_uri": "https://localhost:8080/"
        },
        "id": "MoWSt5FF3tI5",
        "outputId": "4c124e4e-8a06-43bf-afd0-b7b1c133bcaf"
      },
      "execution_count": null,
      "outputs": [
        {
          "output_type": "stream",
          "name": "stdout",
          "text": [
            "4\n",
            "['Urban ' 'Metropolitian ' 'Semi-Urban ' 'NaN ']\n"
          ]
        }
      ]
    },
    {
      "cell_type": "markdown",
      "source": [
        "# 14. Quantos tipos de veículos únicos existem na base?\n"
      ],
      "metadata": {
        "id": "U3LtubsF42yu"
      }
    },
    {
      "cell_type": "code",
      "source": [
        "print(len(df['Type_of_vehicle'].unique()))\n",
        "print(df['Type_of_vehicle'].unique())"
      ],
      "metadata": {
        "colab": {
          "base_uri": "https://localhost:8080/"
        },
        "id": "h7wJKe1f4I4N",
        "outputId": "c853bb83-240b-47d3-c340-953e3e6fc06f"
      },
      "execution_count": null,
      "outputs": [
        {
          "output_type": "stream",
          "name": "stdout",
          "text": [
            "4\n",
            "['motorcycle ' 'scooter ' 'electric_scooter ' 'bicycle ']\n"
          ]
        }
      ]
    },
    {
      "cell_type": "markdown",
      "source": [
        "# 15. Qual o tipo de veículo que mais fez entregas com a condição de trânsito pesado? \"High\""
      ],
      "metadata": {
        "id": "mLSX2sFs5J9Y"
      }
    },
    {
      "cell_type": "code",
      "source": [
        "veiculos = df['Type_of_vehicle'].unique()\n",
        "qtd_entregas2 = 0\n",
        "tipo_veiculo = ''\n",
        "\n",
        "\n",
        "for type_veiculos in veiculos:\n",
        "  filter = (df['Type_of_vehicle'] == type_veiculos) & (df['Road_traffic_density'] == 'High ')\n",
        "\n",
        "  filter_aux = df.loc[filter, :].shape[0]\n",
        "\n",
        "\n",
        "  if qtd_entregas2 < filter_aux:\n",
        "     qtd_entregas2 = filter_aux\n",
        "     tipo_veiculo = type_veiculos\n",
        "\n",
        "print(f\"{tipo_veiculo} -> {qtd_entregas2}\")\n"
      ],
      "metadata": {
        "colab": {
          "base_uri": "https://localhost:8080/"
        },
        "id": "DkOh0kNU5F0b",
        "outputId": "ce0043d6-7a26-4709-82db-e954483d602a"
      },
      "execution_count": null,
      "outputs": [
        {
          "output_type": "stream",
          "name": "stdout",
          "text": [
            "motorcycle  -> 2481\n"
          ]
        }
      ]
    },
    {
      "cell_type": "code",
      "source": [
        " filter_aux = df.loc[filter, :].shape[0]\n",
        "print(qtd_entregas2)"
      ],
      "metadata": {
        "id": "3QvljteN7CNx",
        "colab": {
          "base_uri": "https://localhost:8080/"
        },
        "outputId": "3087647b-ce81-460e-d228-798099c2f765"
      },
      "execution_count": null,
      "outputs": [
        {
          "output_type": "stream",
          "name": "stdout",
          "text": [
            "2481\n"
          ]
        }
      ]
    }
  ]
}